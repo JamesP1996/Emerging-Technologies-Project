{
 "cells": [
  {
   "cell_type": "markdown",
   "metadata": {},
   "source": [
    "# Power Prediction on Wind Turbine Speed using Keras\n",
    "\n",
    "The purpose of this notebook is to create a Model that can attempt to accurately predict the power produced from a certain speed, using a power production dataset for a wind turbine.\n",
    "\n",
    "#### What is Keras\n",
    "\n",
    "Keras is a package that is part of the Tensorflow suite and is used to create layered machine learning models in order to predict categorical or regression based models. These models can contain text,numbers,imagery or sound depending on the wants and use cases of the developer/user.\n",
    "\n",
    "#### Getting Started\n",
    "To start off we will import Keras from Tensorflow along with some data management and reading services.\n",
    "\n"
   ]
  },
  {
   "cell_type": "code",
   "execution_count": 1,
   "metadata": {},
   "outputs": [],
   "source": [
    "# Data Frame Import\n",
    "import pandas as pd\n",
    "\n",
    "# Plotting the Data Import\n",
    "import matplotlib.pyplot as plt\n",
    "\n",
    "# Numpy Import \n",
    "import numpy as np\n",
    "\n",
    "# Machine Learning Imports (Keras)\n",
    "import tensorflow as tf \n",
    "from tensorflow import  keras\n",
    "from tensorflow.keras import layers\n",
    "\n",
    "# SkLearn to split the training and test data for Training\n",
    "from sklearn.model_selection import train_test_split"
   ]
  },
  {
   "cell_type": "markdown",
   "metadata": {},
   "source": [
    "Firstly we need to read in our power production CSV file using Pandas.\n",
    "It is possible to use any CSV file here but for this use case we are going to be using **powerproduction.csv** which is located in the directory of this notebook."
   ]
  },
  {
   "cell_type": "code",
   "execution_count": 2,
   "metadata": {
    "scrolled": true
   },
   "outputs": [
    {
     "name": "stdout",
     "output_type": "stream",
     "text": [
      "      speed  power\n",
      "0     0.000    0.0\n",
      "1     0.125    0.0\n",
      "2     0.150    0.0\n",
      "3     0.225    0.0\n",
      "4     0.275    0.0\n",
      "..      ...    ...\n",
      "495  24.775    0.0\n",
      "496  24.850    0.0\n",
      "497  24.875    0.0\n",
      "498  24.950    0.0\n",
      "499  25.000    0.0\n",
      "\n",
      "[500 rows x 2 columns]\n"
     ]
    }
   ],
   "source": [
    "powerproduction = pd.read_csv(\"powerproduction.csv\")\n",
    "#Print the result of panda's data reading of the csv file\n",
    "print(powerproduction)"
   ]
  },
  {
   "cell_type": "markdown",
   "metadata": {},
   "source": [
    "### Splitting the Dataset into Training and Testing\n",
    "Next we will split our dataset into training and testing data. To do this we will be using sklearn's train_split module.\n",
    "\n",
    "It's important to do this as we can use the testing data to evaluate the effectiveness of our predictions later along with having a sample of data to train the model with rather than the full batch of data."
   ]
  },
  {
   "cell_type": "code",
   "execution_count": 3,
   "metadata": {},
   "outputs": [],
   "source": [
    "# Create variables X_train , X_test , y_train and y_test from the powerproduction datasets speed and power columns.\n",
    "# We will give 20% of our dataset to the testing variables and the other 80% to our training data.\n",
    "X_train, X_test, y_train, y_test = train_test_split(powerproduction[['speed']], powerproduction[['power']], test_size=0.2)\n",
    "\n",
    "# Set X_train and y_train as Numpy Arrays. These are easier to work with within Keras as they are more reckongnizeable\n",
    "# by machine learning methods.\n",
    "X_train = np.array(X_train)\n",
    "y_train = np.array(y_train)"
   ]
  },
  {
   "cell_type": "markdown",
   "metadata": {},
   "source": [
    "### Creating the ML Model\n",
    "To create the machine learning model we are going to use Keras's sequential mode where each layer is read through in sequential ordering. We will also create a callback function to ensure that the training does not run longer then it needs to and will only run as long as the loss is lowering.\n",
    "\n",
    "We will then create Dense Layers with a decent amount of neurons to train the data with the activation function being **ReLu** which stands for **Rectified linear activation function**. The reason we are using this function is because with Sigmoid activation and hyberbolic tangent functions, there is a issue called vanishing gredient where data can be lost as the model gets further into training. With Relu vanishing gradient is minimized further and relu works quicker and often easier to train models with.\n",
    "\n",
    "It is also important to note the layer of normalization, since the dataset of power production is spontanious and hard to work with, normalization can help the training figure out how to approach the dataset and lower the losses incurred by its hard to learn value drops and rises.\n",
    "It does this by applying a transformation that maintains the mean activation within each example close to 0 and the activation standard deviation close to 1. Often normalization is used on datasets before training but within keras it's possible to add a normalization layer or batch normalization to help improve the outcomes of training in some datasets."
   ]
  },
  {
   "cell_type": "code",
   "execution_count": 4,
   "metadata": {},
   "outputs": [],
   "source": [
    "# Call Back Function to ensure Epochs do not run longer then needed\n",
    "# Monitor Loss as the reason to Early Stop\n",
    "callback = tf.keras.callbacks.EarlyStopping(monitor='loss', patience=16)\n",
    "\n",
    "# Create a Sequential Keras Model\n",
    "model = keras.models.Sequential()\n",
    "\n",
    "# Input Layer\n",
    "model.add(layers.Dense(128, activation='relu',input_dim=1))\n",
    "\n",
    "# Normalization Layer\n",
    "model.add(layers.LayerNormalization(axis=1))\n",
    "\n",
    "# Depth Layers\n",
    "model.add(layers.Dense(64, activation='relu'))\n",
    "\n",
    "# Output Layer\n",
    "model.add(layers.Dense(1, activation='linear'))"
   ]
  },
  {
   "cell_type": "markdown",
   "metadata": {},
   "source": [
    "### Creating a Optimizer\n",
    "For this model I am using Adam with a low learning rate and low decay rate, this gives the time for the machine to learn from the model rather then a high learning rate where it may risk skipping over details and accuracy in hope for speed."
   ]
  },
  {
   "cell_type": "code",
   "execution_count": 5,
   "metadata": {},
   "outputs": [],
   "source": [
    "# Creating a Adam Optimizer (Low Learning Rate)\n",
    "adam = keras.optimizers.Adam(lr=0.0005, decay=1e-6)"
   ]
  },
  {
   "cell_type": "markdown",
   "metadata": {},
   "source": [
    "### Compiling the Model\n",
    "We will compile the model using the layers created and our optimizer created above. Then set the loss to mean squared error which measures the average squared difference between the estimated values and the actual value.\n",
    "I will also add a metric for Mean Absolute Error which is the absolute difference between estimated and actual values.\n"
   ]
  },
  {
   "cell_type": "code",
   "execution_count": 6,
   "metadata": {},
   "outputs": [],
   "source": [
    "# Compile the Model using Mean Squared Error MSE with the created adam optimizer. \n",
    "model.compile(loss='mean_squared_error', optimizer=adam , metrics=[\"mae\"])"
   ]
  },
  {
   "cell_type": "markdown",
   "metadata": {},
   "source": [
    "### Fitting the Model\n",
    "Finally we can fit the model, and create it. We do this by passing in our x and y training variables/values and setting the epoch,batchsize,callback and validation splits. Its possible to do it with just the epochs and batch size but for accuracy to our prediction training, adding in a Early stopping callback and validation split is prefered.\n",
    "\n",
    "A Batch sized of 32 is often used as a baseline for prediction models. Batch size is how much data is passed in at one time into the training layers and epochs are the amount of trials the training will go through before finishing up with a value. To stop the trials(epochs) when losses are no longer going down is the purpose of the callback function (Early Stopping).\n",
    "\n",
    "*Note: As the model is trained using randomized data from the Power Production Dataset. It is important to note that the values you may recieve will differ to what I have recieved. The lowest I have gotten is a Loss of 54. But this model fluctuated between 70-250 Loss mostly. So if your loss is higher than 200. Run the Fit Code Block Again.*\n",
    "\n",
    "\n"
   ]
  },
  {
   "cell_type": "code",
   "execution_count": 10,
   "metadata": {},
   "outputs": [
    {
     "name": "stdout",
     "output_type": "stream",
     "text": [
      "Epoch 1/1200\n",
      "10/10 [==============================] - 0s 10ms/step - loss: 188.0633 - mae: 5.8016 - val_loss: 337.0724 - val_mae: 6.9485\n",
      "Epoch 2/1200\n",
      "10/10 [==============================] - 0s 5ms/step - loss: 187.3427 - mae: 5.5680 - val_loss: 336.0062 - val_mae: 7.0141\n",
      "Epoch 3/1200\n",
      "10/10 [==============================] - 0s 5ms/step - loss: 186.3943 - mae: 5.6561 - val_loss: 333.4057 - val_mae: 7.2010\n",
      "Epoch 4/1200\n",
      "10/10 [==============================] - 0s 5ms/step - loss: 188.0276 - mae: 5.9889 - val_loss: 328.5754 - val_mae: 7.4474\n",
      "Epoch 5/1200\n",
      "10/10 [==============================] - 0s 5ms/step - loss: 188.0608 - mae: 5.8049 - val_loss: 338.4443 - val_mae: 6.9340\n",
      "Epoch 6/1200\n",
      "10/10 [==============================] - 0s 6ms/step - loss: 187.0318 - mae: 5.6790 - val_loss: 335.0169 - val_mae: 7.1944\n",
      "Epoch 7/1200\n",
      "10/10 [==============================] - 0s 6ms/step - loss: 187.4732 - mae: 5.9315 - val_loss: 333.2470 - val_mae: 7.2137\n",
      "Epoch 8/1200\n",
      "10/10 [==============================] - 0s 6ms/step - loss: 188.9296 - mae: 5.8481 - val_loss: 340.4873 - val_mae: 7.0510\n",
      "Epoch 9/1200\n",
      "10/10 [==============================] - 0s 6ms/step - loss: 188.3404 - mae: 5.7710 - val_loss: 334.7660 - val_mae: 7.0627\n",
      "Epoch 10/1200\n",
      "10/10 [==============================] - 0s 5ms/step - loss: 187.5454 - mae: 5.6752 - val_loss: 332.5358 - val_mae: 7.1909\n",
      "Epoch 11/1200\n",
      "10/10 [==============================] - 0s 5ms/step - loss: 186.4880 - mae: 5.7329 - val_loss: 332.8878 - val_mae: 7.0357\n",
      "Epoch 12/1200\n",
      "10/10 [==============================] - 0s 5ms/step - loss: 186.2342 - mae: 5.6685 - val_loss: 333.8739 - val_mae: 6.9949\n",
      "Epoch 13/1200\n",
      "10/10 [==============================] - 0s 5ms/step - loss: 185.8819 - mae: 5.6924 - val_loss: 332.1609 - val_mae: 7.1212\n",
      "Epoch 14/1200\n",
      "10/10 [==============================] - 0s 5ms/step - loss: 186.4733 - mae: 5.8677 - val_loss: 330.3178 - val_mae: 7.1759\n",
      "Epoch 15/1200\n",
      "10/10 [==============================] - 0s 5ms/step - loss: 186.4547 - mae: 5.6532 - val_loss: 336.0782 - val_mae: 6.9148\n",
      "Epoch 16/1200\n",
      "10/10 [==============================] - 0s 5ms/step - loss: 187.0016 - mae: 5.7068 - val_loss: 332.7586 - val_mae: 6.9969\n",
      "Epoch 17/1200\n",
      "10/10 [==============================] - 0s 5ms/step - loss: 187.0166 - mae: 5.6359 - val_loss: 332.7831 - val_mae: 7.1286\n",
      "Epoch 18/1200\n",
      "10/10 [==============================] - 0s 5ms/step - loss: 186.0215 - mae: 5.7675 - val_loss: 331.8500 - val_mae: 7.0712\n",
      "Epoch 19/1200\n",
      "10/10 [==============================] - 0s 5ms/step - loss: 186.4811 - mae: 5.6771 - val_loss: 332.2758 - val_mae: 7.0034\n",
      "Epoch 20/1200\n",
      "10/10 [==============================] - 0s 5ms/step - loss: 185.7647 - mae: 5.6414 - val_loss: 334.9174 - val_mae: 7.0248\n",
      "Epoch 21/1200\n",
      "10/10 [==============================] - 0s 5ms/step - loss: 187.3150 - mae: 5.6233 - val_loss: 336.1735 - val_mae: 6.9748\n",
      "Epoch 22/1200\n",
      "10/10 [==============================] - 0s 5ms/step - loss: 187.0874 - mae: 5.9285 - val_loss: 333.9794 - val_mae: 7.6539\n",
      "Epoch 23/1200\n",
      "10/10 [==============================] - 0s 5ms/step - loss: 186.5771 - mae: 5.9180 - val_loss: 329.1676 - val_mae: 7.2018\n",
      "Epoch 24/1200\n",
      "10/10 [==============================] - 0s 5ms/step - loss: 186.9615 - mae: 5.8482 - val_loss: 337.6586 - val_mae: 7.2343\n",
      "Epoch 25/1200\n",
      "10/10 [==============================] - 0s 5ms/step - loss: 186.4248 - mae: 5.7790 - val_loss: 331.4456 - val_mae: 7.0484\n",
      "Epoch 26/1200\n",
      "10/10 [==============================] - 0s 5ms/step - loss: 185.5052 - mae: 5.7864 - val_loss: 329.0559 - val_mae: 7.2480\n",
      "Epoch 27/1200\n",
      "10/10 [==============================] - 0s 5ms/step - loss: 185.8135 - mae: 5.7840 - val_loss: 331.0631 - val_mae: 7.0034\n",
      "Epoch 28/1200\n",
      "10/10 [==============================] - 0s 5ms/step - loss: 188.3418 - mae: 5.7085 - val_loss: 338.3527 - val_mae: 7.0651\n",
      "Epoch 29/1200\n",
      "10/10 [==============================] - 0s 5ms/step - loss: 187.6807 - mae: 5.8834 - val_loss: 327.7563 - val_mae: 7.1518\n",
      "Epoch 30/1200\n",
      "10/10 [==============================] - 0s 5ms/step - loss: 185.7123 - mae: 5.8534 - val_loss: 330.0265 - val_mae: 7.0895\n",
      "Epoch 31/1200\n",
      "10/10 [==============================] - 0s 5ms/step - loss: 185.6732 - mae: 5.6253 - val_loss: 334.6999 - val_mae: 6.9061\n",
      "Epoch 32/1200\n",
      "10/10 [==============================] - 0s 5ms/step - loss: 186.9813 - mae: 5.5446 - val_loss: 331.9841 - val_mae: 6.9585\n",
      "Epoch 33/1200\n",
      "10/10 [==============================] - 0s 5ms/step - loss: 186.0465 - mae: 5.7697 - val_loss: 329.6936 - val_mae: 7.0635\n",
      "Epoch 34/1200\n",
      "10/10 [==============================] - 0s 5ms/step - loss: 186.1570 - mae: 5.8641 - val_loss: 327.8904 - val_mae: 7.2220\n",
      "Epoch 35/1200\n",
      "10/10 [==============================] - 0s 5ms/step - loss: 186.4228 - mae: 5.8932 - val_loss: 332.7283 - val_mae: 6.9644\n",
      "Epoch 36/1200\n",
      "10/10 [==============================] - 0s 5ms/step - loss: 185.2213 - mae: 5.5592 - val_loss: 335.7128 - val_mae: 6.9915\n",
      "Epoch 37/1200\n",
      "10/10 [==============================] - 0s 5ms/step - loss: 186.2596 - mae: 5.7209 - val_loss: 332.2007 - val_mae: 7.0257\n",
      "Epoch 38/1200\n",
      "10/10 [==============================] - 0s 5ms/step - loss: 186.1300 - mae: 5.8268 - val_loss: 326.8554 - val_mae: 7.1671\n",
      "Epoch 39/1200\n",
      "10/10 [==============================] - 0s 5ms/step - loss: 186.7668 - mae: 5.7364 - val_loss: 328.7295 - val_mae: 7.0422\n",
      "Epoch 40/1200\n",
      "10/10 [==============================] - 0s 5ms/step - loss: 185.6908 - mae: 5.6790 - val_loss: 330.8238 - val_mae: 6.9685\n",
      "Epoch 41/1200\n",
      "10/10 [==============================] - 0s 5ms/step - loss: 186.5744 - mae: 5.8195 - val_loss: 326.5937 - val_mae: 7.2236\n",
      "Epoch 42/1200\n",
      "10/10 [==============================] - 0s 5ms/step - loss: 185.3684 - mae: 5.8846 - val_loss: 327.7180 - val_mae: 7.0895\n",
      "Epoch 43/1200\n",
      "10/10 [==============================] - 0s 5ms/step - loss: 186.6103 - mae: 5.5754 - val_loss: 338.0151 - val_mae: 6.8303\n",
      "Epoch 44/1200\n",
      "10/10 [==============================] - 0s 5ms/step - loss: 185.4197 - mae: 5.4848 - val_loss: 331.6758 - val_mae: 7.0186\n",
      "Epoch 45/1200\n",
      "10/10 [==============================] - 0s 5ms/step - loss: 185.9719 - mae: 5.7571 - val_loss: 325.4816 - val_mae: 7.2714\n",
      "Epoch 46/1200\n",
      "10/10 [==============================] - 0s 5ms/step - loss: 186.7459 - mae: 6.0286 - val_loss: 325.0474 - val_mae: 7.2525\n",
      "Epoch 47/1200\n",
      "10/10 [==============================] - 0s 5ms/step - loss: 187.5434 - mae: 5.5464 - val_loss: 339.4853 - val_mae: 6.8226\n",
      "Epoch 48/1200\n",
      "10/10 [==============================] - 0s 5ms/step - loss: 188.9351 - mae: 5.7550 - val_loss: 325.7791 - val_mae: 7.2040\n",
      "Epoch 49/1200\n",
      "10/10 [==============================] - 0s 5ms/step - loss: 185.5901 - mae: 5.9099 - val_loss: 328.5164 - val_mae: 7.0617\n",
      "Epoch 50/1200\n",
      "10/10 [==============================] - 0s 5ms/step - loss: 185.9869 - mae: 5.5468 - val_loss: 334.8394 - val_mae: 6.8470\n",
      "Epoch 51/1200\n",
      "10/10 [==============================] - 0s 5ms/step - loss: 185.4756 - mae: 5.5820 - val_loss: 330.9350 - val_mae: 6.9734\n",
      "Epoch 52/1200\n",
      "10/10 [==============================] - 0s 5ms/step - loss: 185.0908 - mae: 5.5807 - val_loss: 330.7972 - val_mae: 6.9895\n",
      "Epoch 53/1200\n",
      "10/10 [==============================] - 0s 5ms/step - loss: 185.4630 - mae: 5.6359 - val_loss: 328.5742 - val_mae: 7.0341\n",
      "Epoch 54/1200\n",
      "10/10 [==============================] - 0s 5ms/step - loss: 186.0540 - mae: 5.7233 - val_loss: 331.5490 - val_mae: 7.3830\n",
      "Epoch 55/1200\n",
      "10/10 [==============================] - 0s 5ms/step - loss: 187.2088 - mae: 5.8983 - val_loss: 327.2278 - val_mae: 7.0118\n",
      "Epoch 56/1200\n",
      "10/10 [==============================] - 0s 5ms/step - loss: 188.1835 - mae: 6.0538 - val_loss: 323.2288 - val_mae: 7.2521\n",
      "Epoch 57/1200\n",
      "10/10 [==============================] - 0s 5ms/step - loss: 187.8003 - mae: 5.6666 - val_loss: 336.7104 - val_mae: 6.8904\n",
      "Epoch 58/1200\n",
      "10/10 [==============================] - 0s 5ms/step - loss: 185.8515 - mae: 5.5935 - val_loss: 330.5977 - val_mae: 7.0825\n",
      "Epoch 59/1200\n",
      "10/10 [==============================] - 0s 5ms/step - loss: 186.0002 - mae: 5.8328 - val_loss: 326.6000 - val_mae: 7.0818\n",
      "Epoch 60/1200\n",
      "10/10 [==============================] - 0s 5ms/step - loss: 187.3383 - mae: 5.6757 - val_loss: 336.9196 - val_mae: 7.0165\n"
     ]
    },
    {
     "name": "stdout",
     "output_type": "stream",
     "text": [
      "Epoch 61/1200\n",
      "10/10 [==============================] - 0s 5ms/step - loss: 185.1809 - mae: 5.6767 - val_loss: 326.0361 - val_mae: 7.0356\n",
      "Epoch 62/1200\n",
      "10/10 [==============================] - 0s 5ms/step - loss: 186.2162 - mae: 5.9401 - val_loss: 321.6336 - val_mae: 7.2359\n",
      "Epoch 63/1200\n",
      "10/10 [==============================] - 0s 5ms/step - loss: 186.9935 - mae: 5.9187 - val_loss: 333.4891 - val_mae: 6.9224\n",
      "Epoch 64/1200\n",
      "10/10 [==============================] - 0s 5ms/step - loss: 185.6621 - mae: 5.5683 - val_loss: 331.0111 - val_mae: 6.9238\n",
      "Epoch 65/1200\n",
      "10/10 [==============================] - 0s 5ms/step - loss: 185.0176 - mae: 5.5841 - val_loss: 327.4207 - val_mae: 7.1573\n",
      "Epoch 66/1200\n",
      "10/10 [==============================] - 0s 5ms/step - loss: 185.2170 - mae: 5.6106 - val_loss: 329.5125 - val_mae: 6.9399\n",
      "Epoch 67/1200\n",
      "10/10 [==============================] - 0s 5ms/step - loss: 185.3568 - mae: 5.5893 - val_loss: 325.1439 - val_mae: 7.1144\n",
      "Epoch 68/1200\n",
      "10/10 [==============================] - 0s 5ms/step - loss: 185.2820 - mae: 5.9142 - val_loss: 323.5855 - val_mae: 7.1134\n",
      "Epoch 69/1200\n",
      "10/10 [==============================] - 0s 5ms/step - loss: 185.7050 - mae: 5.6030 - val_loss: 333.8338 - val_mae: 6.8391\n",
      "Epoch 70/1200\n",
      "10/10 [==============================] - 0s 5ms/step - loss: 184.6686 - mae: 5.5821 - val_loss: 327.1545 - val_mae: 6.9819\n",
      "Epoch 71/1200\n",
      "10/10 [==============================] - 0s 5ms/step - loss: 184.7909 - mae: 5.6691 - val_loss: 325.4627 - val_mae: 7.0594\n",
      "Epoch 72/1200\n",
      "10/10 [==============================] - 0s 5ms/step - loss: 188.7900 - mae: 6.1352 - val_loss: 318.9504 - val_mae: 7.3923\n",
      "Epoch 73/1200\n",
      "10/10 [==============================] - 0s 5ms/step - loss: 188.9195 - mae: 5.6913 - val_loss: 339.2627 - val_mae: 6.7976\n",
      "Epoch 74/1200\n",
      "10/10 [==============================] - 0s 5ms/step - loss: 185.1295 - mae: 5.4271 - val_loss: 328.6934 - val_mae: 6.8900\n",
      "Epoch 75/1200\n",
      "10/10 [==============================] - 0s 5ms/step - loss: 186.5961 - mae: 5.7915 - val_loss: 324.3191 - val_mae: 7.1197\n",
      "Epoch 76/1200\n",
      "10/10 [==============================] - 0s 5ms/step - loss: 186.8705 - mae: 5.8336 - val_loss: 331.5389 - val_mae: 7.0363\n",
      "Epoch 77/1200\n",
      "10/10 [==============================] - 0s 5ms/step - loss: 186.7624 - mae: 5.8936 - val_loss: 319.7796 - val_mae: 7.2135\n",
      "Epoch 78/1200\n",
      "10/10 [==============================] - 0s 5ms/step - loss: 186.5162 - mae: 5.7398 - val_loss: 327.7535 - val_mae: 6.9417\n",
      "Epoch 79/1200\n",
      "10/10 [==============================] - 0s 5ms/step - loss: 187.4422 - mae: 5.8935 - val_loss: 328.3767 - val_mae: 7.1922\n",
      "Epoch 80/1200\n",
      "10/10 [==============================] - 0s 5ms/step - loss: 185.6900 - mae: 5.6997 - val_loss: 325.5244 - val_mae: 7.0530\n",
      "Epoch 81/1200\n",
      "10/10 [==============================] - 0s 5ms/step - loss: 185.2530 - mae: 5.7758 - val_loss: 325.6624 - val_mae: 7.0627\n",
      "Epoch 82/1200\n",
      "10/10 [==============================] - 0s 5ms/step - loss: 184.7874 - mae: 5.6895 - val_loss: 327.1678 - val_mae: 6.9646\n",
      "Epoch 83/1200\n",
      "10/10 [==============================] - 0s 5ms/step - loss: 184.4365 - mae: 5.6844 - val_loss: 325.7515 - val_mae: 7.0014\n",
      "Epoch 84/1200\n",
      "10/10 [==============================] - 0s 5ms/step - loss: 184.3242 - mae: 5.7073 - val_loss: 324.8483 - val_mae: 7.0586\n",
      "Epoch 85/1200\n",
      "10/10 [==============================] - 0s 5ms/step - loss: 186.1558 - mae: 5.9004 - val_loss: 322.9345 - val_mae: 7.0761\n",
      "Epoch 86/1200\n",
      "10/10 [==============================] - 0s 5ms/step - loss: 183.6851 - mae: 5.6729 - val_loss: 329.3816 - val_mae: 6.8979\n",
      "Epoch 87/1200\n",
      "10/10 [==============================] - 0s 5ms/step - loss: 185.7253 - mae: 5.5130 - val_loss: 326.1110 - val_mae: 6.9313\n",
      "Epoch 88/1200\n",
      "10/10 [==============================] - 0s 5ms/step - loss: 184.7263 - mae: 5.7201 - val_loss: 323.2905 - val_mae: 7.1930\n",
      "Epoch 89/1200\n",
      "10/10 [==============================] - 0s 5ms/step - loss: 184.3904 - mae: 5.6942 - val_loss: 326.4583 - val_mae: 6.9489\n",
      "Epoch 90/1200\n",
      "10/10 [==============================] - 0s 5ms/step - loss: 184.9644 - mae: 5.4691 - val_loss: 330.6069 - val_mae: 6.8852\n",
      "Epoch 91/1200\n",
      "10/10 [==============================] - 0s 5ms/step - loss: 184.5001 - mae: 5.7186 - val_loss: 318.2800 - val_mae: 7.2541\n",
      "Epoch 92/1200\n",
      "10/10 [==============================] - 0s 5ms/step - loss: 184.8322 - mae: 5.7774 - val_loss: 327.4568 - val_mae: 6.9275\n",
      "Epoch 93/1200\n",
      "10/10 [==============================] - 0s 5ms/step - loss: 184.9679 - mae: 5.6869 - val_loss: 328.2206 - val_mae: 6.9467\n",
      "Epoch 94/1200\n",
      "10/10 [==============================] - 0s 5ms/step - loss: 185.1624 - mae: 5.6429 - val_loss: 321.8497 - val_mae: 7.0503\n",
      "Epoch 95/1200\n",
      "10/10 [==============================] - 0s 5ms/step - loss: 184.6322 - mae: 5.8313 - val_loss: 320.9534 - val_mae: 7.1943\n",
      "Epoch 96/1200\n",
      "10/10 [==============================] - 0s 5ms/step - loss: 184.9471 - mae: 5.8521 - val_loss: 327.1392 - val_mae: 6.9433\n",
      "Epoch 97/1200\n",
      "10/10 [==============================] - 0s 5ms/step - loss: 183.9861 - mae: 5.5686 - val_loss: 325.4099 - val_mae: 7.0292\n",
      "Epoch 98/1200\n",
      "10/10 [==============================] - 0s 5ms/step - loss: 187.4679 - mae: 6.0348 - val_loss: 319.4786 - val_mae: 7.2091\n",
      "Epoch 99/1200\n",
      "10/10 [==============================] - 0s 5ms/step - loss: 184.6386 - mae: 5.7834 - val_loss: 334.0584 - val_mae: 6.9873\n",
      "Epoch 100/1200\n",
      "10/10 [==============================] - 0s 5ms/step - loss: 184.1562 - mae: 5.4779 - val_loss: 325.7392 - val_mae: 6.8935\n",
      "Epoch 101/1200\n",
      "10/10 [==============================] - 0s 5ms/step - loss: 185.4093 - mae: 5.8547 - val_loss: 321.5641 - val_mae: 7.0625\n",
      "Epoch 102/1200\n",
      "10/10 [==============================] - 0s 5ms/step - loss: 185.8349 - mae: 5.9953 - val_loss: 323.7723 - val_mae: 7.1364\n"
     ]
    },
    {
     "data": {
      "text/plain": [
       "<tensorflow.python.keras.callbacks.History at 0x2132bfbfb80>"
      ]
     },
     "execution_count": 10,
     "metadata": {},
     "output_type": "execute_result"
    }
   ],
   "source": [
    "model.fit(X_train,y_train,epochs=1200, batch_size =32,verbose = 1,callbacks=[callback],validation_split=0.2)"
   ]
  },
  {
   "cell_type": "markdown",
   "metadata": {},
   "source": [
    "### Evaluating and Plotting the Model\n",
    "After the model has been created and trained. We can plot it on a matplotlib plotting graph and also evaluate the model's accuracy.\n",
    "We kept the X_test and y_test values earlier for the use in evaluating model accuracy."
   ]
  },
  {
   "cell_type": "code",
   "execution_count": 11,
   "metadata": {},
   "outputs": [
    {
     "name": "stdout",
     "output_type": "stream",
     "text": [
      "4/4 [==============================] - 0s 1ms/step - loss: 353.1693 - mae: 7.5776\n",
      "Test loss: 353.1693115234375 / Test accuracy: 7.577610969543457\n"
     ]
    },
    {
     "data": {
      "image/png": "[encoded data removed]",
      "text/plain": [
       "<Figure size 1008x576 with 1 Axes>"
      ]
     },
     "metadata": {},
     "output_type": "display_data"
    }
   ],
   "source": [
    "# Setting up PLT Plot Figure Size\n",
    "plt.rcParams['figure.figsize'] = [14, 8]\n",
    "\n",
    "# Infering to the plot what style to use.\n",
    "plt.style.use(\"ggplot\")\n",
    "\n",
    "# Plotting the Data\n",
    "plt.plot(powerproduction[['speed']], powerproduction[['power']], label='actual')\n",
    "plt.plot(powerproduction[['speed']], model.predict(powerproduction[['speed']]), label='prediction')\n",
    "plt.legend();\n",
    "\n",
    "\n",
    "score = model.evaluate(X_test, y_test, verbose=1)\n",
    "print(f'Test loss: {score[0]} / Test accuracy: {score[1]}')"
   ]
  },
  {
   "cell_type": "markdown",
   "metadata": {},
   "source": [
    "### Saving the Model\n",
    "As we will be using this model later in a web service, it's important to save it as a h5 file type so that it's useable in an api or web service."
   ]
  },
  {
   "cell_type": "code",
   "execution_count": 9,
   "metadata": {},
   "outputs": [],
   "source": [
    "model.save(\"myModel.h5\")"
   ]
  },
  {
   "source": [
    "## Accuracy of the Above Model\n",
    "As the powerproduction dataset has many large drops in values or sudden rises (High Variance per row of Power), it is very hard for this current regression model to predict the accurate power values based off the wind speed. As the dataset is inconsistent with the current model layers. The user will recieve different loss and val_loss outcomes everytime along with accuracy values. The accuracy of the evaluated test data above, will also change depending on the section of the data, the code randomly picks out to be used. \n",
    "\n",
    "Overall the model can be sometimes more accurate or less accurate depending on the run and sample sizes chosen by the code but it is difficult for the machine learning to make a very accurate model, thus the values predicted will always be afew points off but not entirely out of order as you can see in the above plotting that the power line (Y-Values) do tend to follow the curve of the actual data but do not seem to respond to the sudden dips or rises in the dataset. \n",
    "\n",
    "In the process of getting to the point of creating this model, I did try many combinations of activations, epochs, amount of neurons, normalization, drop out layers and layers of depth but none of them gave loss values lower than 100 and the lowest i got was using the above configuration of layers,epochs,batch size and callback functions which I found the best value during my runs of it within Visual Studio Code was *52 loss*.\n",
    "This model seems to prefer less layers due to the singular input and output along with low learning rates to give it time to understand the variance between speed and power per row but the baseline models I have tried in Keras Machine learning and using the code prevented still fails to give an accurate model due to such variances in the dataset.\n",
    "\n",
    "It may be possible to get better accuracy using a LTSM or GRU based model where the standard deviations between the rows of data are memorized and better utilized in effect, creating a better model that can account for the high amount of variance.\n",
    "\n",
    "It is also important to note, that you can remove the 0 values in the power dataset which will give a lower mean squared loss but a worse prediction as the dips in the dataset will be ignored. This is why in this model I have opted to not perform the removal of the 0's and kept the dataset in it's original form. "
   ],
   "cell_type": "markdown",
   "metadata": {}
  },
  {
   "cell_type": "markdown",
   "metadata": {},
   "source": [
    "### Research Undertaken\n",
    "The main place most of my research took place was on the Keras Website,particularly under the Keras API References, located here : https://keras.io/api/\n",
    "\n",
    "I also did research into the difference between sigmoid and relu activation functions and why people tend to prefer the use of a relu on most common datasets in contrast to sigmoid https://stats.stackexchange.com/questions/126238/what-are-the-advantages-of-relu-over-sigmoid-function-in-deep-neural-networks\n",
    "\n",
    "I followed tensorflows own youtube channel in hopes of improving the model to no success but they did help me learn how keras functioned and the different layers people could potentially add beyond the dense layer such as Normalization or Categorical Encoding along with the issues with **over fitting** and **underfitting** models which are two key terms in the development of ML models.\n",
    "https://www.youtube.com/channel/UC0rqucBdTuFTjJiefW5t-IQ\n",
    "\n",
    "I did extensive research into alternative Keras model designs such as LTSM or GRU but I found issues in converting this dataset to one that could be used with those designs as they take a 3 Dimensional Array as a input and our input is only one dimensional. Through my hypothesis I would conclude a model using GRU or LTSM would give a better outcome as stated above as these models are often used by Stock Market Predictions and our data in a graph format follows a very similiar trend, in that there are large spikes in the power values which could be seen as similiar to fall and rises in stock prices.\n",
    "\n",
    "https://en.wikipedia.org/wiki/Long_short-term_memory\n",
    "\n",
    "https://en.wikipedia.org/wiki/Gated_recurrent_unit\n",
    "\n",
    "It is also important to note the possible use of Standarization or Normalization in the Model and how if you could preprocess the model in a way to keep the loss lower but not effect the overall prediction accuracy, it would highly improve this model in theory. The preprocessing of data is a key component to preparing data for machine learning but it requires some mathamatical understanding and in that can be hard to do. Using scalars or min_max functions such as those used in sklearn, the model could be improved but in my own testing of these functions I did not recieve good results as I did not have the mathamatical knowledge to convert the inputs and values correctly into such methods of Standarization or Normalization in the Tensorflow or Sklearn Packages.\n",
    "I learned information about preprocessing,normalization and Standarization at these following links.\n",
    "\n",
    "https://towardsdatascience.com/introduction-to-data-preprocessing-in-machine-learning-a9fa83a5dc9d\n",
    "https://www.analyticsvidhya.com/blog/2020/04/feature-scaling-machine-learning-normalization-standardization/\n",
    "https://scikit-learn.org/stable/modules/generated/sklearn.preprocessing.MinMaxScaler.html\n",
    "https://scikit-learn.org/stable/modules/generated/sklearn.preprocessing.StandardScaler.html\n",
    "https://keras.io/api/preprocessing/\n",
    "\n",
    "\n"
   ]
  },
  {
   "cell_type": "code",
   "execution_count": null,
   "metadata": {},
   "outputs": [],
   "source": []
  }
 ],
 "metadata": {
  "kernelspec": {
   "display_name": "Python 3",
   "language": "python",
   "name": "python3"
  },
  "language_info": {
   "codemirror_mode": {
    "name": "ipython",
    "version": 3
   },
   "file_extension": ".py",
   "mimetype": "text/x-python",
   "name": "python",
   "nbconvert_exporter": "python",
   "pygments_lexer": "ipython3",
   "version": "3.8.5-final"
  }
 },
 "nbformat": 4,
 "nbformat_minor": 4
}