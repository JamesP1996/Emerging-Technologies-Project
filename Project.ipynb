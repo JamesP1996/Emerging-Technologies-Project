{
 "cells": [
  {
   "cell_type": "code",
   "execution_count": null,
   "metadata": {},
   "outputs": [],
   "source": [
    "import numpy as np\n",
    "import tensorflow as tf\n",
    "from tensorflow import keras\n",
    "from tensorflow.keras import layers"
   ]
  },
  {
   "cell_type": "code",
   "execution_count": null,
   "metadata": {},
   "outputs": [],
   "source": [
    "# Get the data as NUMPY Arrays\n",
    "(x_train,y_train),(x_test,y_text) = keras.datasets.mnist.load_data()\n",
    "\n",
    "#Build a simple model\n",
    "inputs = keras.Input(shapre=(28,28))\n",
    "x = keras.layers.experimental.preprocessing.Rescaling(1.0/255)(inputs)\n",
    "x = keras.layers.Flatten()(x)\n",
    "x = keras.layers.Dense(128,activation=\"relu\")(x)\n",
    "x = keras.layers.Dense(128,activation=\"relu\")(x)\n",
    "outputs = keras.layers.Dense(10,activation=\"softmax\")(x)\n",
    "model = keras.Model(inputs,outputs)\n",
    "model.summary()\n",
    "\n",
    "#Compile the model\n",
    "model.compile(optimizer=\"adam\", loss = \"sparse_categorical_crossentropy\")\n",
    "\n",
    "#Train the model for 1 epoch from Numpy data\n",
    "batch_size = 64\n",
    "print(\"Fit on Numpy data\")\n",
    "history = model.fit(x_train,y_train,batch_size=batch_size,epochs=1)\n",
    "\n",
    "#Train the model for 1 epoch using a dataset\n",
    "dataset= tf.data.Dataset.from_tensor_slices((x_train,y_train)).batch(batch_size)"
   ]
  }
 ],
 "metadata": {
  "kernelspec": {
   "display_name": "Python 3",
   "language": "python",
   "name": "python3"
  },
  "language_info": {
   "codemirror_mode": {
    "name": "ipython",
    "version": 3
   },
   "file_extension": ".py",
   "mimetype": "text/x-python",
   "name": "python",
   "nbconvert_exporter": "python",
   "pygments_lexer": "ipython3",
   "version": "3.8.3"
  }
 },
 "nbformat": 4,
 "nbformat_minor": 4
}